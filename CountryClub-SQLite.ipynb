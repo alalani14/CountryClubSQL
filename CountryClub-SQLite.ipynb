{
 "cells": [
  {
   "cell_type": "code",
   "execution_count": 5,
   "id": "promising-remainder",
   "metadata": {},
   "outputs": [],
   "source": [
    "from sqlalchemy import create_engine\n",
    "import pandas as pd"
   ]
  },
  {
   "cell_type": "code",
   "execution_count": 6,
   "id": "grave-publisher",
   "metadata": {},
   "outputs": [
    {
     "name": "stdout",
     "output_type": "stream",
     "text": [
      "['Bookings', 'Facilities', 'Members']\n"
     ]
    }
   ],
   "source": [
    "engine = create_engine('sqlite:///country_club.db')\n",
    "table_names = engine.table_names()\n",
    "print(table_names)"
   ]
  },
  {
   "cell_type": "markdown",
   "id": "formal-garbage",
   "metadata": {},
   "source": [
    "PART 2: SQLite\n",
    "\n",
    "Export the country club data from PHPMyAdmin, and connect to a local SQLite instance from Jupyter notebook \n",
    "for the following questions. "
   ]
  },
  {
   "cell_type": "markdown",
   "id": "surface-interaction",
   "metadata": {},
   "source": [
    "Q10: Produce a list of facilities with a total revenue less than 1000.\n",
    "The output of facility name and total revenue, sorted by revenue. Remember\n",
    "that there's a different cost for guests and members!"
   ]
  },
  {
   "cell_type": "code",
   "execution_count": 18,
   "id": "peaceful-emission",
   "metadata": {},
   "outputs": [
    {
     "name": "stdout",
     "output_type": "stream",
     "text": [
      "SELECT f.name, SUM(CASE WHEN b.memid =0 THEN b.slots * f.guestcost ELSE b.slots * f.membercost END ) AS revenue FROM Bookings b JOIN Facilities f ON b.facid = f.facid GROUP BY f.name HAVING revenue < 1000 ORDER BY revenue\n"
     ]
    }
   ],
   "source": [
    "sql = 'SELECT f.name, '\n",
    "sql += 'SUM(CASE WHEN b.memid =0 '\n",
    "sql += 'THEN b.slots * f.guestcost '\n",
    "sql += 'ELSE b.slots * f.membercost '\n",
    "sql += 'END ) AS revenue '\n",
    "sql += 'FROM Bookings b '\n",
    "sql += 'JOIN Facilities f ON b.facid = f.facid '\n",
    "sql += 'GROUP BY f.name '\n",
    "sql += 'HAVING revenue < 1000 '\n",
    "sql += 'ORDER BY revenue'\n",
    "print(sql)"
   ]
  },
  {
   "cell_type": "code",
   "execution_count": 19,
   "id": "mental-breakfast",
   "metadata": {},
   "outputs": [
    {
     "name": "stdout",
     "output_type": "stream",
     "text": [
      "            name  revenue\n",
      "0   Table Tennis      180\n",
      "1  Snooker Table      240\n",
      "2     Pool Table      270\n"
     ]
    }
   ],
   "source": [
    "with engine.connect() as con:\n",
    "    rs = con.execute(sql)\n",
    "    df = pd.DataFrame(rs.fetchall())\n",
    "    df.columns = rs.keys()\n",
    "    \n",
    "print(df)"
   ]
  },
  {
   "cell_type": "markdown",
   "id": "monthly-reservation",
   "metadata": {},
   "source": [
    " Q11: Produce a report of members and who recommended them in alphabetic surname,firstname order"
   ]
  },
  {
   "cell_type": "code",
   "execution_count": 20,
   "id": "biblical-obligation",
   "metadata": {},
   "outputs": [
    {
     "name": "stdout",
     "output_type": "stream",
     "text": [
      "select m.surname || \", \" || m.firstname as member, rec.surname ||\", \" || rec.firstname as recby from Members m left join Members rec on m.recommendedby = rec.memid order by member\n"
     ]
    }
   ],
   "source": [
    "sql = 'select m.surname || \", \" || m.firstname as member, '\n",
    "sql += 'rec.surname ||\", \" || rec.firstname as recby '\n",
    "sql += 'from Members m '\n",
    "sql += 'left join Members rec on m.recommendedby = rec.memid '\n",
    "sql += 'order by member'\n",
    "print(sql)"
   ]
  },
  {
   "cell_type": "code",
   "execution_count": 21,
   "id": "employed-letters",
   "metadata": {},
   "outputs": [
    {
     "name": "stdout",
     "output_type": "stream",
     "text": [
      "                      member               recby\n",
      "0            Bader, Florence    Stibbons, Ponder\n",
      "1                Baker, Anne    Stibbons, Ponder\n",
      "2             Baker, Timothy     Farrell, Jemima\n",
      "3                Boothe, Tim         Rownam, Tim\n",
      "4            Butters, Gerald       Smith, Darren\n",
      "5               Coplin, Joan      Baker, Timothy\n",
      "6             Crumpet, Erica        Smith, Tracy\n",
      "7                Dare, Nancy    Joplette, Janice\n",
      "8             Farrell, David                None\n",
      "9            Farrell, Jemima                None\n",
      "10              GUEST, GUEST                None\n",
      "11          Genting, Matthew     Butters, Gerald\n",
      "12                Hunt, John  Purview, Millicent\n",
      "13              Jones, David    Joplette, Janice\n",
      "14            Jones, Douglas        Jones, David\n",
      "15          Joplette, Janice       Smith, Darren\n",
      "16           Mackenzie, Anna       Smith, Darren\n",
      "17             Owen, Charles       Smith, Darren\n",
      "18             Pinker, David     Farrell, Jemima\n",
      "19        Purview, Millicent        Smith, Tracy\n",
      "20               Rownam, Tim                None\n",
      "21         Rumney, Henrietta    Genting, Matthew\n",
      "22         Sarwin, Ramnaresh     Bader, Florence\n",
      "23             Smith, Darren                None\n",
      "24             Smith, Darren                None\n",
      "25               Smith, Jack       Smith, Darren\n",
      "26              Smith, Tracy                None\n",
      "27          Stibbons, Ponder       Tracy, Burton\n",
      "28             Tracy, Burton                None\n",
      "29      Tupperware, Hyacinth                None\n",
      "30  Worthington-Smyth, Henry        Smith, Tracy\n"
     ]
    }
   ],
   "source": [
    "with engine.connect() as con:\n",
    "    rs = con.execute(sql)\n",
    "    df = pd.DataFrame(rs.fetchall())\n",
    "    df.columns = rs.keys()\n",
    "    \n",
    "print(df)"
   ]
  },
  {
   "cell_type": "markdown",
   "id": "loved-breathing",
   "metadata": {},
   "source": [
    "Q12: Find the facilities with their usage by member, but not guests"
   ]
  },
  {
   "cell_type": "code",
   "execution_count": 22,
   "id": "material-hudson",
   "metadata": {},
   "outputs": [
    {
     "name": "stdout",
     "output_type": "stream",
     "text": [
      "SELECT f.name, m.surname || \", \" || m.firstname as member, count(slots) as usage FROM Bookings b JOIN Facilities f ON b.facid = f.facid JOIN Members m on b.memid = m.memid where b.memid != 0 GROUP BY f.name, m.surname, m.firstname ORDER BY member\n"
     ]
    }
   ],
   "source": [
    "sql = 'SELECT f.name, m.surname || \", \" || m.firstname as member, count(slots) as usage '\n",
    "sql += 'FROM Bookings b '\n",
    "sql += 'JOIN Facilities f ON b.facid = f.facid '\n",
    "sql += 'JOIN Members m on b.memid = m.memid '\n",
    "sql += 'where b.memid != 0 '\n",
    "sql += 'GROUP BY f.name, m.surname, m.firstname '\n",
    "sql += 'ORDER BY member'\n",
    "print(sql)"
   ]
  },
  {
   "cell_type": "code",
   "execution_count": 23,
   "id": "organic-sweet",
   "metadata": {},
   "outputs": [
    {
     "name": "stdout",
     "output_type": "stream",
     "text": [
      "                name                    member  usage\n",
      "0    Badminton Court           Bader, Florence      9\n",
      "1     Massage Room 2           Bader, Florence      2\n",
      "2         Pool Table           Bader, Florence     23\n",
      "3      Snooker Table           Bader, Florence     33\n",
      "4       Squash Court           Bader, Florence      2\n",
      "..               ...                       ...    ...\n",
      "197     Squash Court      Tupperware, Hyacinth      1\n",
      "198  Badminton Court  Worthington-Smyth, Henry      4\n",
      "199   Massage Room 1  Worthington-Smyth, Henry      1\n",
      "200       Pool Table  Worthington-Smyth, Henry     33\n",
      "201     Table Tennis  Worthington-Smyth, Henry      3\n",
      "\n",
      "[202 rows x 3 columns]\n"
     ]
    }
   ],
   "source": [
    "with engine.connect() as con:\n",
    "    rs = con.execute(sql)\n",
    "    df = pd.DataFrame(rs.fetchall())\n",
    "    df.columns = rs.keys()\n",
    "    \n",
    "print(df)"
   ]
  },
  {
   "cell_type": "markdown",
   "id": "steady-spirituality",
   "metadata": {},
   "source": [
    "Q13: Find the facilities usage by month, but not guests"
   ]
  },
  {
   "cell_type": "code",
   "execution_count": 28,
   "id": "coordinate-image",
   "metadata": {},
   "outputs": [
    {
     "name": "stdout",
     "output_type": "stream",
     "text": [
      "SELECT f.name, strftime(\"%m\", date(b.starttime)), count(slots) as usage FROM Bookings b JOIN Facilities f ON b.facid = f.facid JOIN Members m on b.memid = m.memid where b.memid != 0 GROUP BY f.name, strftime(\"%m\", date(b.starttime)) ORDER BY strftime(\"%m\", date(b.starttime))\n"
     ]
    }
   ],
   "source": [
    "sql = 'SELECT f.name, strftime(\"%m\", date(b.starttime)), count(slots) as usage '\n",
    "sql += 'FROM Bookings b '\n",
    "sql += 'JOIN Facilities f ON b.facid = f.facid '\n",
    "sql += 'JOIN Members m on b.memid = m.memid '\n",
    "sql += 'where b.memid != 0 '\n",
    "sql += 'GROUP BY f.name, strftime(\"%m\", date(b.starttime)) '\n",
    "sql += 'ORDER BY strftime(\"%m\", date(b.starttime))'\n",
    "print(sql)"
   ]
  },
  {
   "cell_type": "code",
   "execution_count": 29,
   "id": "adaptive-large",
   "metadata": {},
   "outputs": [
    {
     "name": "stdout",
     "output_type": "stream",
     "text": [
      "               name strftime(\"%m\", date(b.starttime))  usage\n",
      "0   Badminton Court                                07     51\n",
      "1    Massage Room 1                                07     77\n",
      "2    Massage Room 2                                07      4\n",
      "3        Pool Table                                07    103\n",
      "4     Snooker Table                                07     68\n",
      "5      Squash Court                                07     23\n",
      "6      Table Tennis                                07     48\n",
      "7    Tennis Court 1                                07     65\n",
      "8    Tennis Court 2                                07     41\n",
      "9   Badminton Court                                08    132\n",
      "10   Massage Room 1                                08    153\n",
      "11   Massage Room 2                                08      9\n",
      "12       Pool Table                                08    272\n",
      "13    Snooker Table                                08    154\n",
      "14     Squash Court                                08     85\n",
      "15     Table Tennis                                08    143\n",
      "16   Tennis Court 1                                08    111\n",
      "17   Tennis Court 2                                08    109\n",
      "18  Badminton Court                                09    161\n",
      "19   Massage Room 1                                09    191\n",
      "20   Massage Room 2                                09     14\n",
      "21       Pool Table                                09    408\n",
      "22    Snooker Table                                09    199\n",
      "23     Squash Court                                09     87\n",
      "24     Table Tennis                                09    194\n",
      "25   Tennis Court 1                                09    132\n",
      "26   Tennis Court 2                                09    126\n"
     ]
    }
   ],
   "source": [
    "with engine.connect() as con:\n",
    "    rs = con.execute(sql)\n",
    "    df = pd.DataFrame(rs.fetchall())\n",
    "    df.columns = rs.keys()\n",
    "    \n",
    "print(df)"
   ]
  },
  {
   "cell_type": "code",
   "execution_count": null,
   "id": "rotary-canada",
   "metadata": {},
   "outputs": [],
   "source": []
  }
 ],
 "metadata": {
  "kernelspec": {
   "display_name": "Python 3",
   "language": "python",
   "name": "python3"
  },
  "language_info": {
   "codemirror_mode": {
    "name": "ipython",
    "version": 3
   },
   "file_extension": ".py",
   "mimetype": "text/x-python",
   "name": "python",
   "nbconvert_exporter": "python",
   "pygments_lexer": "ipython3",
   "version": "3.8.5"
  }
 },
 "nbformat": 4,
 "nbformat_minor": 5
}
